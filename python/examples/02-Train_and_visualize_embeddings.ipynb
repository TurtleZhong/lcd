{
 "cells": [
  {
   "cell_type": "code",
   "execution_count": null,
   "metadata": {},
   "outputs": [],
   "source": [
    "import tensorflow as tf\n",
    "import numpy as np\n",
    "import sys\n",
    "\n",
    "from datetime import datetime\n",
    "\n",
    "python_root = '../'\n",
    "sys.path.insert(0, python_root)\n",
    "from model.alexnet import AlexNet\n",
    "from model.triplet_loss import batch_all_triplet_loss, batch_hardest_triplet_loss"
   ]
  },
  {
   "cell_type": "code",
   "execution_count": null,
   "metadata": {},
   "outputs": [],
   "source": [
    "np.random.seed(1)"
   ]
  },
  {
   "cell_type": "markdown",
   "metadata": {
    "code_folding": [
     0
    ]
   },
   "source": [
    "## Model"
   ]
  },
  {
   "cell_type": "code",
   "execution_count": null,
   "metadata": {
    "code_folding": []
   },
   "outputs": [],
   "source": [
    "## Configuration settings\n",
    "import os\n",
    "# Path to the textfiles for the trainings and validation set\n",
    "train_file = '../train.txt'\n",
    "val_file = '../val.txt'\n",
    "test_file = '../test.txt'\n",
    "\n",
    "# Learning params\n",
    "learning_rate = 0.01\n",
    "num_epochs = 30\n",
    "batch_size = 128\n",
    "margin = 0.2\n",
    "triplet_strategy = \"batch_all\"\n",
    "# triplet_strategy = \"batch_hard\"\n",
    "\n",
    "# Network params\n",
    "dropout_rate = 0.5\n",
    "no_train_layers = []\n",
    "\n",
    "# How often we want to write the tf.summary data to disk\n",
    "display_step = 1\n",
    "\n",
    "# Path for tf.summary.FileWriter and to store model checkpoints\n",
    "filewriter_path = \"../logs/tmp/triplet_loss_{}\".format(triplet_strategy)\n",
    "checkpoint_path = \"../logs/tmp/triplet_loss_{}_ckpt\".format(triplet_strategy)\n",
    "\n",
    "# Create parent path if it doesn't exist\n",
    "if not os.path.isdir(checkpoint_path): os.makedirs(checkpoint_path)"
   ]
  },
  {
   "cell_type": "code",
   "execution_count": null,
   "metadata": {},
   "outputs": [],
   "source": [
    "# TF placeholder for graph input and output\n",
    "x = tf.placeholder(tf.float32, [batch_size, 227, 227, 3])\n",
    "labels = tf.placeholder(tf.float32, [batch_size, 4])\n",
    "keep_prob = tf.placeholder(tf.float32)\n",
    "\n",
    "# Initialize model\n",
    "skip_layers = ['fc8']  # Don't use weights from AlexNet\n",
    "model = AlexNet(x, keep_prob, skip_layers, '../model/bvlc_alexnet.npy')\n",
    "\n",
    "# Link variable to model output\n",
    "embeddings = tf.nn.l2_normalize(model.fc8, axis=1)\n",
    "\n",
    "# List of trainable variables of the layers we want to train\n",
    "var_list = [v for v in tf.trainable_variables() if v.name.split('/')[0] not in no_train_layers]\n",
    "\n",
    "with tf.name_scope(\"triplet_loss\"):\n",
    "    if triplet_strategy == \"batch_all\":\n",
    "        loss, fraction = batch_all_triplet_loss(labels, embeddings, margin=margin, squared=False)\n",
    "    elif triplet_strategy == \"batch_hard\":\n",
    "        loss = batch_hardest_triplet_loss(labels, embeddings, margin=margin, squared=False)\n",
    "    else:\n",
    "        raise ValueError(\"Triplet strategy not recognized: {}\".format(triplet_strategy))"
   ]
  },
  {
   "cell_type": "code",
   "execution_count": null,
   "metadata": {},
   "outputs": [],
   "source": [
    "# Train op\n",
    "with tf.name_scope(\"train\"):\n",
    "  # Get gradients of all trainable variables\n",
    "    gradients = tf.gradients(loss, var_list)\n",
    "    gradients = list(zip(gradients, var_list))\n",
    "\n",
    "    # Create optimizer and apply gradient descent to the trainable variables\n",
    "    optimizer = tf.train.GradientDescentOptimizer(learning_rate)\n",
    "    train_op = optimizer.apply_gradients(grads_and_vars=gradients)"
   ]
  },
  {
   "cell_type": "code",
   "execution_count": null,
   "metadata": {
    "scrolled": true
   },
   "outputs": [],
   "source": [
    "# Add gradients to summary\n",
    "for gradient, var in gradients:\n",
    "    tf.summary.histogram(var.name + '/gradient', gradient)\n",
    "\n",
    "# Add the variables we train to the summary\n",
    "for var in var_list:\n",
    "    tf.summary.histogram(var.name, var)\n",
    "\n",
    "# Add the loss to summary\n",
    "if triplet_strategy == \"batch_all\":\n",
    "    tf.summary.scalar('triplet_loss', loss)\n",
    "    tf.summary.scalar('fraction_positive_triplets', fraction)\n",
    "elif triplet_strategy == \"batch_hard\":\n",
    "    tf.summary.scalar('triplet_loss', loss)\n",
    "\n",
    "# Add embedding_mean_norm to summary\n",
    "embedding_mean_norm = tf.reduce_mean(tf.norm(embeddings, axis=1))\n",
    "tf.summary.scalar(\"embedding_mean_norm\", embedding_mean_norm)\n",
    "\n",
    "merged_summary = tf.summary.merge_all()\n",
    "\n",
    "# Initialize the FileWriter\n",
    "writer = tf.summary.FileWriter(filewriter_path)\n",
    "\n",
    "# Initialize an saver for store model checkpoints\n",
    "saver = tf.train.Saver()"
   ]
  },
  {
   "cell_type": "code",
   "execution_count": null,
   "metadata": {
    "code_folding": []
   },
   "outputs": [],
   "source": [
    "from model.datagenerator import ImageDataGenerator\n",
    "train_generator = ImageDataGenerator(train_file,\n",
    "                                     horizontal_flip = False, shuffle = True)\n",
    "val_generator = ImageDataGenerator(val_file, shuffle = False)\n",
    "test_generator = ImageDataGenerator(test_file, shuffle = False)"
   ]
  },
  {
   "cell_type": "code",
   "execution_count": null,
   "metadata": {},
   "outputs": [],
   "source": [
    "# Get the number of training/validation steps per epoch\n",
    "train_batches_per_epoch = np.floor(train_generator.data_size / batch_size).astype(np.int16)\n",
    "val_batches_per_epoch = np.floor(val_generator.data_size / batch_size).astype(np.int16)"
   ]
  },
  {
   "cell_type": "markdown",
   "metadata": {},
   "source": [
    "# Start training\n",
    "\n",
    "You can also skip training and use the checkpoint at 30 epochs in `../logs/model_epoch30.ckpt`. See [Embeddings](#Embeddings)."
   ]
  },
  {
   "cell_type": "code",
   "execution_count": null,
   "metadata": {
    "code_folding": [],
    "scrolled": true
   },
   "outputs": [],
   "source": [
    "with tf.Session() as sess:\n",
    "    # Initialize all variables\n",
    "    sess.run(tf.global_variables_initializer())\n",
    "    \n",
    "    # Add the model graph to TensorBoard\n",
    "    writer.add_graph(sess.graph)\n",
    "    \n",
    "    # Load the pretrained weights into the non-trainable layer\n",
    "    model.load_initial_weights(sess)\n",
    "    \n",
    "    print(\"{} Start training...\".format(datetime.now()))\n",
    "    print(\"{} Open Tensorboard at --logdir {}\".format(datetime.now(), filewriter_path))\n",
    "    \n",
    "    # Loop over number of epochs\n",
    "    for epoch in range(num_epochs):\n",
    "\n",
    "        print(\"{} Epoch number: {}\".format(datetime.now(), epoch+1))\n",
    "\n",
    "        step = 1\n",
    "\n",
    "        while step < train_batches_per_epoch:\n",
    "\n",
    "            # Get a batch of images and labels\n",
    "            batch_x_train, batch_labels_train = train_generator.next_batch(batch_size)\n",
    "\n",
    "            # And run the training op\n",
    "            sess.run(train_op, feed_dict={x: batch_x_train,\n",
    "                                          labels: batch_labels_train,\n",
    "                                          keep_prob: dropout_rate})\n",
    "\n",
    "            # Generate summary with the current batch of data and write to file\n",
    "            if step%display_step == 0:\n",
    "                s = sess.run(merged_summary, feed_dict={x: batch_x_train,\n",
    "                                                        labels: batch_labels_train,\n",
    "                                                        keep_prob: 1.})\n",
    "                writer.add_summary(s, epoch*train_batches_per_epoch + step)\n",
    "\n",
    "            step += 1\n",
    "\n",
    "        # Validate the model on the entire validation set\n",
    "        print(\"{} Start validation\".format(datetime.now()))\n",
    "        loss_val = 0.\n",
    "        test_count = 0\n",
    "        for _ in range(val_batches_per_epoch):\n",
    "            batch_tx, batch_ty = val_generator.next_batch(batch_size)\n",
    "            loss_current = sess.run(loss, feed_dict={x: batch_tx,\n",
    "                                                     labels: batch_ty,\n",
    "                                                     keep_prob: 1.})\n",
    "            loss_val += loss_current\n",
    "            test_count += 1\n",
    "        loss_val = loss_val / test_count\n",
    "        print(\"{} Average loss for validation set = {:.4f}\".format(datetime.now(), loss_val))\n",
    "        \n",
    "        # Reset the file pointer of the image data generator\n",
    "        val_generator.reset_pointer()\n",
    "        train_generator.reset_pointer()\n",
    "        \n",
    "        print(\"{} Saving checkpoint of model...\".format(datetime.now()))\n",
    "        #save checkpoint of the model\n",
    "        checkpoint_name = os.path.join(checkpoint_path, 'model_epoch'+str(epoch+1)+'.ckpt')\n",
    "        save_path = saver.save(sess, checkpoint_name)\n",
    "\n",
    "        print(\"{} Model checkpoint saved at {}\".format(datetime.now(), checkpoint_name))\n"
   ]
  },
  {
   "cell_type": "markdown",
   "metadata": {},
   "source": [
    "# Embeddings"
   ]
  },
  {
   "cell_type": "markdown",
   "metadata": {},
   "source": [
    "## Get embeddings of lines in test set"
   ]
  },
  {
   "cell_type": "code",
   "execution_count": null,
   "metadata": {},
   "outputs": [],
   "source": [
    "# According to ../split_dataset_with_labels_world.py\n",
    "test = []\n",
    "traj = 1\n",
    "frames_total = 300\n",
    "for frame_id in range(frames_total):\n",
    "    if frame_id % 5 == 3:\n",
    "        test.append(frame_id)\n",
    "        continue\n",
    "\n",
    "test_set_size = 0\n",
    "with open(test_file) as f:\n",
    "    for i, l in enumerate(f):\n",
    "        pass\n",
    "    test_set_size = i + 1 \n",
    "    \n",
    "assert len(test) != test_set_size\n",
    "print(\"Test set has {} lines \".format(test_set_size))"
   ]
  },
  {
   "cell_type": "code",
   "execution_count": null,
   "metadata": {},
   "outputs": [],
   "source": [
    "%%time\n",
    "test_embeddings_all = np.empty((0, 64), dtype=np.float32)\n",
    "\n",
    "with tf.Session() as sess:\n",
    "    saver.restore(sess, '../logs/model_epoch30.ckpt')\n",
    "    \n",
    "    test_generator.reset_pointer()\n",
    "    \n",
    "    for i in range(test_set_size / batch_size):\n",
    "        batch_x, batch_labels = test_generator.next_batch(batch_size)\n",
    "        output = sess.run(embeddings, feed_dict={x: batch_x,\n",
    "                                                 labels: batch_labels,\n",
    "                                                 keep_prob: 1.})\n",
    "        test_embeddings_all = np.vstack([test_embeddings_all, output])\n",
    "        # Display every 5 steps\n",
    "        if i%5 == 0:\n",
    "            print(\"Embeddings got for {} lines \".format(test_embeddings_all.shape[0]))\n",
    "            \n",
    "    lines_totoal = test_embeddings_all.shape[0]\n",
    "    print(\"Embeddings got for {} lines \".format(lines_totoal))"
   ]
  },
  {
   "cell_type": "markdown",
   "metadata": {},
   "source": [
    "# K-means clustering with obtained embeddings"
   ]
  },
  {
   "cell_type": "code",
   "execution_count": null,
   "metadata": {},
   "outputs": [],
   "source": [
    "from sklearn.cluster import KMeans\n",
    "\n",
    "lines_features = test_embeddings_all\n",
    "\n",
    "n_clusters = 30\n",
    "kmeans = KMeans(n_clusters, init='k-means++').fit(lines_features)\n",
    "cluster_labels = kmeans.labels_"
   ]
  },
  {
   "cell_type": "code",
   "execution_count": null,
   "metadata": {},
   "outputs": [],
   "source": [
    "from tools.visualization import get_lines_world_coordinates_with_instances\n",
    "\n",
    "data_lines_world = get_lines_world_coordinates_with_instances(trajectory=traj, frames=test)\n",
    "data_lines_world = data_lines_world[:lines_totoal]"
   ]
  },
  {
   "cell_type": "code",
   "execution_count": null,
   "metadata": {},
   "outputs": [],
   "source": [
    "from tools.scenenet_utils import pcl_lines_for_plot\n",
    "\n",
    "pcl_lines_open3d = pcl_lines_for_plot(data_lines_world, lines_color=cluster_labels)"
   ]
  },
  {
   "cell_type": "code",
   "execution_count": null,
   "metadata": {},
   "outputs": [],
   "source": [
    "import open3d\n",
    "\n",
    "open3d.draw_geometries(pcl_lines_open3d[:])"
   ]
  },
  {
   "cell_type": "markdown",
   "metadata": {},
   "source": [
    "## See embeddings in the feature space, colored with instance label"
   ]
  },
  {
   "cell_type": "code",
   "execution_count": null,
   "metadata": {},
   "outputs": [],
   "source": [
    "from tensorflow.contrib.tensorboard.plugins import projector\n",
    "\n",
    "LOG_DIR = os.path.abspath('../logs/tmp/embedding_logs')\n",
    "# Create parent path if it doesn't exist\n",
    "if not os.path.isdir(LOG_DIR): os.makedirs(LOG_DIR)\n",
    "    \n",
    "metadata = os.path.join(LOG_DIR, 'embedding_metadata.tsv')\n",
    "\n",
    "test_embeddings = tf.Variable(test_embeddings_all, name='test_embeddings')\n",
    "\n",
    "with open(metadata, 'w') as metadata_file:\n",
    "    for label in cluster_labels:\n",
    "        metadata_file.write('%d\\n' % label)\n",
    "        \n",
    "with tf.Session() as sess:\n",
    "    saver = tf.train.Saver([test_embeddings])\n",
    "\n",
    "    sess.run(test_embeddings.initializer)\n",
    "    saver.save(sess, os.path.join(LOG_DIR, 'test_embeddings.ckpt'))\n",
    "\n",
    "    config = projector.ProjectorConfig()\n",
    "    # One can add multiple embeddings.\n",
    "    embedding = config.embeddings.add()\n",
    "    embedding.tensor_name = test_embeddings.name\n",
    "    # Link this tensor to its metadata file (e.g. labels).\n",
    "    embedding.metadata_path = metadata\n",
    "    # Saves a config file that TensorBoard will read during startup.\n",
    "    projector.visualize_embeddings(tf.summary.FileWriter(LOG_DIR), config)"
   ]
  },
  {
   "cell_type": "code",
   "execution_count": null,
   "metadata": {},
   "outputs": [],
   "source": [
    "!tensorboard --logdir ../logs/tmp/embedding_logs"
   ]
  }
 ],
 "metadata": {
  "kernelspec": {
   "display_name": "Python 2",
   "language": "python",
   "name": "python2"
  },
  "language_info": {
   "codemirror_mode": {
    "name": "ipython",
    "version": 2
   },
   "file_extension": ".py",
   "mimetype": "text/x-python",
   "name": "python",
   "nbconvert_exporter": "python",
   "pygments_lexer": "ipython2",
   "version": "2.7.12"
  }
 },
 "nbformat": 4,
 "nbformat_minor": 2
}
