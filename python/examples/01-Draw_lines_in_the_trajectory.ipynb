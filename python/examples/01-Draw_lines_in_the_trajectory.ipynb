{
 "cells": [
  {
   "cell_type": "code",
   "execution_count": 1,
   "metadata": {},
   "outputs": [],
   "source": [
    "import sys\n",
    "python_root = '../'\n",
    "sys.path.insert(0, python_root)\n",
    "\n",
    "from tools.visualization import get_lines_world_coordinates_with_instances\n",
    "from tools.scenenet_utils import pcl_lines_for_plot"
   ]
  },
  {
   "cell_type": "markdown",
   "metadata": {},
   "source": [
    "# Draw all lines in the trajectory"
   ]
  },
  {
   "cell_type": "code",
   "execution_count": 2,
   "metadata": {},
   "outputs": [
    {
     "name": "stdout",
     "output_type": "stream",
     "text": [
      "Total number of lines: 22216\n",
      "Number of unique instance labels for lines: 62\n"
     ]
    }
   ],
   "source": [
    "traj = 1\n",
    "frames_total = 300\n",
    "data_lines_world = get_lines_world_coordinates_with_instances(trajectory=traj, frames=[i for i in range(frames_total)])"
   ]
  },
  {
   "cell_type": "code",
   "execution_count": 6,
   "metadata": {},
   "outputs": [],
   "source": [
    "# Generate pointcloud to plot\n",
    "pcl_lines_open3d = pcl_lines_for_plot(data_lines_world[:], \n",
    "                                      lines_color=data_lines_world[:,-1].astype(np.int64))"
   ]
  },
  {
   "cell_type": "code",
   "execution_count": null,
   "metadata": {},
   "outputs": [],
   "source": [
    "open3d.draw_geometries(pcl_lines_open3d[:])"
   ]
  },
  {
   "cell_type": "markdown",
   "metadata": {},
   "source": [
    "# Draw lines in test set"
   ]
  },
  {
   "cell_type": "code",
   "execution_count": 16,
   "metadata": {},
   "outputs": [],
   "source": [
    "# According to ../split_dataset_with_labels_world.py\n",
    "test = []\n",
    "for frame_id in range(frames_total):\n",
    "    if frame_id % 5 == 3:\n",
    "        test.append(frame_id)\n",
    "        continue"
   ]
  },
  {
   "cell_type": "code",
   "execution_count": 17,
   "metadata": {},
   "outputs": [
    {
     "name": "stdout",
     "output_type": "stream",
     "text": [
      "Total number of lines: 4391\n",
      "Number of unique instance labels for lines: 52\n"
     ]
    }
   ],
   "source": [
    "data_lines_world = get_lines_world_coordinates_with_instances(trajectory=traj, frames=test)"
   ]
  },
  {
   "cell_type": "code",
   "execution_count": 18,
   "metadata": {},
   "outputs": [],
   "source": [
    "# Generate pointcloud to plot\n",
    "pcl_lines_open3d = pcl_lines_for_plot(data_lines_world[:], \n",
    "                                      lines_color=data_lines_world[:,-1].astype(np.int64))"
   ]
  },
  {
   "cell_type": "code",
   "execution_count": 20,
   "metadata": {},
   "outputs": [],
   "source": [
    "open3d.draw_geometries(pcl_lines_open3d[:])"
   ]
  }
 ],
 "metadata": {
  "kernelspec": {
   "display_name": "line_tools",
   "language": "python",
   "name": "line_tools"
  },
  "language_info": {
   "codemirror_mode": {
    "name": "ipython",
    "version": 2
   },
   "file_extension": ".py",
   "mimetype": "text/x-python",
   "name": "python",
   "nbconvert_exporter": "python",
   "pygments_lexer": "ipython2",
   "version": "2.7.12"
  }
 },
 "nbformat": 4,
 "nbformat_minor": 2
}
