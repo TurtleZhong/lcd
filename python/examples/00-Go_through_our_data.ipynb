{
 "cells": [
  {
   "cell_type": "code",
   "execution_count": 1,
   "metadata": {
    "code_folding": [],
    "scrolled": false
   },
   "outputs": [],
   "source": [
    "## Import\n",
    "import numpy as np\n",
    "import matplotlib.pyplot as plt\n",
    "import os\n",
    "import cv2\n",
    "import pandas as pd\n",
    "import open3d \n",
    "%matplotlib inline"
   ]
  },
  {
   "cell_type": "code",
   "execution_count": 2,
   "metadata": {},
   "outputs": [],
   "source": [
    "import sys\n",
    "\n",
    "python_root = '../'\n",
    "sys.path.insert(0, python_root)\n",
    "\n",
    "from tools import pathconfig\n",
    "from tools import scenenet_utils"
   ]
  },
  {
   "cell_type": "markdown",
   "metadata": {},
   "source": [
    "# Camera info"
   ]
  },
  {
   "cell_type": "code",
   "execution_count": 3,
   "metadata": {},
   "outputs": [],
   "source": [
    "camera_model = scenenet_utils.get_camera_model()"
   ]
  },
  {
   "cell_type": "markdown",
   "metadata": {},
   "source": [
    "# Read data"
   ]
  },
  {
   "cell_type": "code",
   "execution_count": 1,
   "metadata": {
    "code_folding": [
     14,
     17
    ],
    "scrolled": false
   },
   "outputs": [
    {
     "name": "stdout",
     "output_type": "stream",
     "text": [
      "frame 0\n"
     ]
    },
    {
     "ename": "NameError",
     "evalue": "name 'pathconfig' is not defined",
     "output_type": "error",
     "traceback": [
      "\u001b[0;31m---------------------------------------------------------------------------\u001b[0m",
      "\u001b[0;31mNameError\u001b[0m                                 Traceback (most recent call last)",
      "\u001b[0;32m<ipython-input-1-4935d8812147>\u001b[0m in \u001b[0;36m<module>\u001b[0;34m()\u001b[0m\n\u001b[1;32m      4\u001b[0m \u001b[0;34m\u001b[0m\u001b[0m\n\u001b[1;32m      5\u001b[0m \u001b[0;31m## Read data\u001b[0m\u001b[0;34m\u001b[0m\u001b[0;34m\u001b[0m\u001b[0m\n\u001b[0;32m----> 6\u001b[0;31m \u001b[0mpySceneNetRGBD_root\u001b[0m \u001b[0;34m=\u001b[0m \u001b[0mpathconfig\u001b[0m\u001b[0;34m.\u001b[0m\u001b[0mpySceneNetRGBD_root\u001b[0m\u001b[0;34m\u001b[0m\u001b[0m\n\u001b[0m\u001b[1;32m      7\u001b[0m \u001b[0mpath_to_photos\u001b[0m \u001b[0;34m=\u001b[0m \u001b[0mos\u001b[0m\u001b[0;34m.\u001b[0m\u001b[0mpath\u001b[0m\u001b[0;34m.\u001b[0m\u001b[0mjoin\u001b[0m\u001b[0;34m(\u001b[0m\u001b[0mpySceneNetRGBD_root\u001b[0m\u001b[0;34m,\u001b[0m \u001b[0;34m'data/train/0/784/'\u001b[0m\u001b[0;34m)\u001b[0m  \u001b[0;31m# train traj 1\u001b[0m\u001b[0;34m\u001b[0m\u001b[0m\n\u001b[1;32m      8\u001b[0m \u001b[0;34m\u001b[0m\u001b[0m\n",
      "\u001b[0;31mNameError\u001b[0m: name 'pathconfig' is not defined"
     ]
    }
   ],
   "source": [
    "frame_id = 0\n",
    "photo_id = frame_id * 25\n",
    "print('frame {}'.format(frame_id))\n",
    "\n",
    "## Read data\n",
    "pySceneNetRGBD_root = pathconfig.pySceneNetRGBD_root\n",
    "path_to_photos = os.path.join(pySceneNetRGBD_root, 'data/train/0/784/')  # train traj 1 \n",
    "\n",
    "path_to_lines_root = pathconfig.path_to_lines_root\n",
    "path_to_lines = os.path.join(path_to_lines_root, 'lines_with_labels_{0}.txt'.format(frame_id))\n",
    "\n",
    "path_to_lines_2D_kept = os.path.join(path_to_lines_root,\n",
    "                             'lines_2D_kept_{0}.txt'.format(frame_id))\n",
    "path_to_lines_2D = os.path.join(path_to_lines_root,\n",
    "                             'lines_2D_{0}.txt'.format(frame_id))\n",
    "\n",
    "data_lines = pd.read_csv(path_to_lines, sep=\" \", header = None)\n",
    "data_lines = data_lines.values\n",
    "lines_count = data_lines.shape[0] \n",
    "print('lines number: {}'.format(lines_count))\n",
    "\n",
    "data_lines_2D_kept = pd.read_csv(path_to_lines_2D_kept, sep=\" \", header = None)\n",
    "data_lines_2D_kept = data_lines_2D_kept.values\n",
    "data_lines_2D_kept = data_lines_2D_kept.astype(np.int16)\n",
    "\n",
    "data_lines_2D = pd.read_csv(path_to_lines_2D, sep=\" \", header = None)\n",
    "data_lines_2D = data_lines_2D.values\n",
    "data_lines_2D = data_lines_2D.astype(np.int16)\n",
    "\n",
    "assert lines_count == data_lines_2D_kept.shape[0]\n",
    "\n",
    "rgb_image = cv2.imread(\n",
    "            os.path.join(path_to_photos,'photo/{0}.jpg'.format(photo_id)), cv2.IMREAD_COLOR)\n",
    "\n",
    "depth_image = cv2.imread(\n",
    "            os.path.join(path_to_photos,'depth/{0}.png'.format(photo_id)), cv2.IMREAD_UNCHANGED)\n",
    "\n",
    "instance_image = cv2.imread(\n",
    "            os.path.join(path_to_photos,'instance/{0}.png'.format(photo_id)), cv2.IMREAD_UNCHANGED)"
   ]
  },
  {
   "cell_type": "markdown",
   "metadata": {},
   "source": [
    "# Get pointcloud from rgb-d image"
   ]
  },
  {
   "cell_type": "code",
   "execution_count": 5,
   "metadata": {
    "scrolled": false
   },
   "outputs": [
    {
     "ename": "AttributeError",
     "evalue": "'NoneType' object has no attribute 'shape'",
     "output_type": "error",
     "traceback": [
      "\u001b[0;31m---------------------------------------------------------------------------\u001b[0m",
      "\u001b[0;31mAttributeError\u001b[0m                            Traceback (most recent call last)",
      "\u001b[0;32m<ipython-input-5-3a50ed92703b>\u001b[0m in \u001b[0;36m<module>\u001b[0;34m()\u001b[0m\n\u001b[0;32m----> 1\u001b[0;31m \u001b[0mpcl\u001b[0m \u001b[0;34m=\u001b[0m \u001b[0mscenenet_utils\u001b[0m\u001b[0;34m.\u001b[0m\u001b[0mrgbd_to_pcl\u001b[0m\u001b[0;34m(\u001b[0m\u001b[0mrgb_image\u001b[0m\u001b[0;34m,\u001b[0m \u001b[0mdepth_image\u001b[0m\u001b[0;34m,\u001b[0m \u001b[0mcamera_model\u001b[0m\u001b[0;34m)\u001b[0m\u001b[0;34m\u001b[0m\u001b[0m\n\u001b[0m",
      "\u001b[0;32m/home/francesco/catkin_extended_ws/src/line_tools/python/tools/scenenet_utils.py\u001b[0m in \u001b[0;36mrgbd_to_pcl\u001b[0;34m(rgb_image, depth_image, camera_model)\u001b[0m\n\u001b[1;32m    221\u001b[0m \u001b[0;34m\u001b[0m\u001b[0m\n\u001b[1;32m    222\u001b[0m     vs = np.array(\n\u001b[0;32m--> 223\u001b[0;31m         [(v - center_x) * constant_x for v in range(0, depth_image.shape[1])])\n\u001b[0m\u001b[1;32m    224\u001b[0m     us = np.array(\n\u001b[1;32m    225\u001b[0m         [(u - center_y) * constant_y for u in range(0, depth_image.shape[0])])\n",
      "\u001b[0;31mAttributeError\u001b[0m: 'NoneType' object has no attribute 'shape'"
     ]
    }
   ],
   "source": [
    "pcl = scenenet_utils.rgbd_to_pcl(rgb_image, depth_image, camera_model)"
   ]
  },
  {
   "cell_type": "code",
   "execution_count": null,
   "metadata": {
    "code_folding": [],
    "scrolled": true
   },
   "outputs": [],
   "source": [
    "%%time\n",
    "plt.rcParams['figure.figsize'] = (12, 12) \n",
    "\n",
    "image, depth = scenenet_utils.project_pcl_to_image(pcl, camera_model)\n",
    "fig, ax = plt.subplots(1,2)\n",
    "ax[0].imshow(cv2.cvtColor(image,cv2.COLOR_BGR2RGB))\n",
    "ax[1].imshow(depth)"
   ]
  },
  {
   "cell_type": "markdown",
   "metadata": {},
   "source": [
    "# Compare all lines detected in 2D and kept lines"
   ]
  },
  {
   "cell_type": "code",
   "execution_count": null,
   "metadata": {},
   "outputs": [],
   "source": [
    "rgb_image_2D = cv2.imread(\n",
    "            os.path.join(path_to_photos,'photo/{0}.jpg'.format(photo_id)), cv2.IMREAD_COLOR)\n",
    "rgb_image_2D_kept = cv2.imread(\n",
    "            os.path.join(path_to_photos,'photo/{0}.jpg'.format(photo_id)), cv2.IMREAD_COLOR)\n",
    "\n",
    "for i in range(data_lines_2D.shape[0]):\n",
    "    cv2.line(rgb_image_2D, tuple(data_lines_2D[i][:2]), tuple(data_lines_2D[i][2:]), (0,0,255), 1)\n",
    "    \n",
    "for i in range(data_lines_2D_kept.shape[0]):\n",
    "    cv2.line(rgb_image_2D_kept, tuple(data_lines_2D_kept[i][:2]), tuple(data_lines_2D_kept[i][2:]), (0,0,255), 1)\n",
    "\n",
    "fig, ax = plt.subplots(1,2)\n",
    "ax[0].imshow(cv2.cvtColor(rgb_image_2D,cv2.COLOR_BGR2RGB))\n",
    "ax[1].imshow(cv2.cvtColor(rgb_image_2D_kept,cv2.COLOR_BGR2RGB))"
   ]
  },
  {
   "cell_type": "markdown",
   "metadata": {},
   "source": [
    "# Draw lines and pointcloud"
   ]
  },
  {
   "cell_type": "code",
   "execution_count": null,
   "metadata": {},
   "outputs": [],
   "source": [
    "from tools.visualization import pcl_lines_for_plot\n",
    "\n",
    "pcl_open3d =  open3d.PointCloud()\n",
    "pcl_open3d.points = open3d.Vector3dVector(pcl[:,:3])\n",
    "pcl_open3d.colors = open3d.Vector3dVector(pcl[:,[5,4,3]]/255)\n",
    "\n",
    "# Color line according to its type\n",
    "pcl_lines_open3d = pcl_lines_for_plot(data_lines[:], data_lines[:,-2])\n",
    "pcl_lines_open3d.append(pcl_open3d)\n",
    "open3d.draw_geometries(pcl_lines_open3d[:])"
   ]
  },
  {
   "cell_type": "markdown",
   "metadata": {},
   "source": [
    "# Vitual camera image for line"
   ]
  },
  {
   "cell_type": "code",
   "execution_count": null,
   "metadata": {
    "code_folding": [],
    "scrolled": false
   },
   "outputs": [],
   "source": [
    "i = 1  # line id\n",
    "distance = 3\n",
    "T, z = scenenet_utils.virtual_camera_pose(data_lines[i,:], distance)\n",
    "\n",
    "pcl_from_line_view = scenenet_utils.pcl_transform(pcl, T)\n",
    "rgb_image_from_line_view, depth_image_from_line_view = scenenet_utils.project_pcl_to_image(pcl_from_line_view, camera_model)\n",
    "\n",
    "start_point = data_lines[i,:3]\n",
    "end_point = data_lines[i,3:6]\n",
    "middle_point =(start_point + end_point) / 2  \n",
    "\n",
    "pcl_line = np.vstack((start_point, end_point))\n",
    "pcl_line = np.hstack((pcl_line, np.array([[0,0,255],[0,0,255]])))\n",
    "\n",
    "pcl_line_new = scenenet_utils.pcl_transform(pcl_line, T)\n",
    "\n",
    "cv2.line(rgb_image_from_line_view, (int(camera_model.project3dToPixel(pcl_line_new[0, :3])[0]), \\\n",
    "                                    int(camera_model.project3dToPixel(pcl_line_new[0, :3])[1])), \\\n",
    "                                   (int(camera_model.project3dToPixel(pcl_line_new[1, :3])[0]), \\\n",
    "                                    int(camera_model.project3dToPixel(pcl_line_new[1, :3])[1])), (0,0,255), 2)\n",
    "\n",
    "rgb_image = cv2.imread(\n",
    "            os.path.join(path_to_photos,'photo/{0}.jpg'.format(photo_id)), cv2.IMREAD_COLOR)\n",
    "\n",
    "cv2.line(rgb_image, (int(camera_model.project3dToPixel(pcl_line[0, :3])[0]), \\\n",
    "                                    int(camera_model.project3dToPixel(pcl_line[0, :3])[1])), \\\n",
    "                                   (int(camera_model.project3dToPixel(pcl_line[1, :3])[0]), \\\n",
    "                                    int(camera_model.project3dToPixel(pcl_line[1, :3])[1])), (0,0,255), 2)\n",
    "\n",
    "fig, ax = plt.subplots(1,2)\n",
    "ax[0].imshow(cv2.cvtColor(rgb_image,cv2.COLOR_BGR2RGB))\n",
    "ax[1].imshow(cv2.cvtColor(rgb_image_from_line_view,cv2.COLOR_BGR2RGB))"
   ]
  },
  {
   "cell_type": "markdown",
   "metadata": {},
   "source": [
    "# Inpainting "
   ]
  },
  {
   "cell_type": "code",
   "execution_count": null,
   "metadata": {
    "scrolled": false
   },
   "outputs": [],
   "source": [
    "%%time\n",
    "plt.rcParams['figure.figsize'] = (12, 12)\n",
    "reds = rgb_image_from_line_view[:, :, 2]\n",
    "greens = rgb_image_from_line_view[:, :, 1]\n",
    "blues = rgb_image_from_line_view[:, :, 0]\n",
    "\n",
    "mask = ((greens != 0) | (reds != 0) | (blues != 0)) * 1\n",
    "\n",
    "mask = np.array(mask, dtype=np.uint8)\n",
    "\n",
    "kernel = np.ones((5,5),np.uint8)\n",
    "dilated_mask = cv2.dilate(mask, kernel, iterations = 1) - mask\n",
    "\n",
    "dst_rgb = cv2.inpaint(rgb_image_from_line_view, dilated_mask, 10, cv2.INPAINT_TELEA)\n",
    "dst_depth = cv2.inpaint(depth_image_from_line_view, dilated_mask, 10, cv2.INPAINT_TELEA)\n",
    "\n",
    "permutation = np.argsort([2,1,0])\n",
    "fig, ax = plt.subplots(1,2)\n",
    "    \n",
    "ax[0].imshow(dst_rgb[:,:,permutation])\n",
    "ax[1].imshow(dilated_mask, cmap='gray')"
   ]
  },
  {
   "cell_type": "code",
   "execution_count": null,
   "metadata": {},
   "outputs": [],
   "source": []
  }
 ],
 "metadata": {
  "kernelspec": {
   "display_name": "line_tools",
   "language": "python",
   "name": "line_tools"
  },
  "language_info": {
   "codemirror_mode": {
    "name": "ipython",
    "version": 2
   },
   "file_extension": ".py",
   "mimetype": "text/x-python",
   "name": "python",
   "nbconvert_exporter": "python",
   "pygments_lexer": "ipython2",
   "version": "2.7.15rc1"
  }
 },
 "nbformat": 4,
 "nbformat_minor": 2
}
